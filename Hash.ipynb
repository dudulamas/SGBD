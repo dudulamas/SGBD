{
 "cells": [
  {
   "cell_type": "code",
   "execution_count": 9,
   "metadata": {},
   "outputs": [],
   "source": [
    "import pandas as pd\n",
    "import numpy as np\n",
    "import csv\n",
    "import binascii\n",
    "from decimal import *"
   ]
  },
  {
   "cell_type": "code",
   "execution_count": 2,
   "metadata": {
    "collapsed": true
   },
   "outputs": [],
   "source": [
    "with open('customer.tbl') as file:\n",
    "    tabela = pd.read_table(file, sep='|', index_col=0, header=None, lineterminator='\\n', names=['id','name','address',\n",
    "                                                                                                'nationkey','phone','acctbal','mktsegment','comment'])\n",
    "\n",
    " "
   ]
  },
  {
   "cell_type": "code",
   "execution_count": 3,
   "metadata": {
    "collapsed": true
   },
   "outputs": [],
   "source": [
    "saida = open('result.csv','w')"
   ]
  },
  {
   "cell_type": "code",
   "execution_count": 4,
   "metadata": {
    "collapsed": true
   },
   "outputs": [],
   "source": [
    "tabela.to_csv(saida,index=None)"
   ]
  },
  {
   "cell_type": "code",
   "execution_count": 39,
   "metadata": {},
   "outputs": [
    {
     "name": "stdout",
     "output_type": "stream",
     "text": [
      "1 10 11 100 101 110 111 1000 1001 1010 1011 1100 1101 1110 1111 10000 10001 10010 10011 10100 10101 "
     ]
    }
   ],
   "source": [
    "x = 20\n",
    "cont = 0\n",
    "with open('result.csv') as csvfile:\n",
    "    global pegaId       \n",
    "    read = csv.reader(csvfile)\n",
    "    for row in read:\n",
    "        if cont <= x:\n",
    "            if row[0] == 'id': continue\n",
    "            pageId = row[0]\n",
    "            #print(type(pageId))\n",
    "            #criaId = int(pageId[12:])      \n",
    "            cont = cont +1\n",
    "            print(\"{0:b}\".format(int(pageId[12:])), end=' ')\n",
    "            \n",
    "           \n",
    "\n"
   ]
  },
  {
   "cell_type": "code",
   "execution_count": null,
   "metadata": {
    "collapsed": true
   },
   "outputs": [],
   "source": []
  },
  {
   "cell_type": "code",
   "execution_count": null,
   "metadata": {
    "collapsed": true
   },
   "outputs": [],
   "source": []
  }
 ],
 "metadata": {
  "kernelspec": {
   "display_name": "Python 3",
   "language": "python",
   "name": "python3"
  },
  "language_info": {
   "codemirror_mode": {
    "name": "ipython",
    "version": 3
   },
   "file_extension": ".py",
   "mimetype": "text/x-python",
   "name": "python",
   "nbconvert_exporter": "python",
   "pygments_lexer": "ipython3",
   "version": "3.6.3"
  }
 },
 "nbformat": 4,
 "nbformat_minor": 2
}
